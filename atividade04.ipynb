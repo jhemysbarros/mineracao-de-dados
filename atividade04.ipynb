{
 "cells": [
  {
   "cell_type": "code",
   "execution_count": 1,
   "metadata": {},
   "outputs": [],
   "source": [
    "import pandas as pd\n",
    "import numpy as np\n",
    "\n",
    "#from IPython.display import clear_output"
   ]
  },
  {
   "cell_type": "code",
   "execution_count": 2,
   "metadata": {},
   "outputs": [],
   "source": [
    "url = \"https://www.unitins.br/portaltransparencia/folha-de-pagamento?TipoAno=2021&tipoMes=02&TipoPesquisa=Nome&busca=\"\n",
    "salario = pd.read_html(url)\n",
    "df = pd.DataFrame(salario[0])"
   ]
  },
  {
   "cell_type": "code",
   "execution_count": 3,
   "metadata": {},
   "outputs": [],
   "source": [
    "profs = ['PROF. ADJUNTO I', 'PROF. DOUTOR I /2893',\n",
    "       'PROF. MESTRE I /2893', 'PROF.UNIVERSITARIO 2',\n",
    "       'PROF.UNIVERSITARIO 3', 'PROF.UNIVERSITARIO I', 'QS PU1PROF ESP. 4',\n",
    "       'QS PU1PROF. DOUTOR4', 'QS PU1PROF. MESTRE4']\n",
    "\n",
    "cargo_professor = df['VÍNCULO'].unique()"
   ]
  },
  {
   "cell_type": "code",
   "execution_count": 4,
   "metadata": {},
   "outputs": [],
   "source": [
    "def formato_salario(salario):\n",
    "    salario = salario.replace('R$', '').replace('.', '').replace(',', '.')\n",
    "    return float(salario.strip())"
   ]
  },
  {
   "cell_type": "code",
   "execution_count": 5,
   "metadata": {},
   "outputs": [
    {
     "name": "stdout",
     "output_type": "stream",
     "text": [
      "PROF. ADJUNTO I | EFETIVO/Disp\n",
      "Quantidade de Professores: 1\n",
      "Maior salário: 7392.23\n",
      "Menor salário: 7392.23\n",
      "Média de salario: 7392.23\n",
      "\n",
      "PROF. DOUTOR I /2893 | EFETIVO\n",
      "Quantidade de Professores: 10\n",
      "Maior salário: 14837.41\n",
      "Menor salário: 5046.92\n",
      "Média de salario: 9743.502\n",
      "\n",
      "PROF. MESTRE I /2893 | EFETIVO\n",
      "Quantidade de Professores: 22\n",
      "Maior salário: 16419.46\n",
      "Menor salário: 4839.75\n",
      "Média de salario: 7296.139999999999\n",
      "\n",
      "PROF.UNIVERSITARIO 2 | CONTRATADO\n",
      "Quantidade de Professores: 82\n",
      "Maior salário: 12316.26\n",
      "Menor salário: 2688.81\n",
      "Média de salario: 4865.504634146344\n",
      "\n",
      "PROF.UNIVERSITARIO 3 | CONTRATADO\n",
      "Quantidade de Professores: 45\n",
      "Maior salário: 6508.57\n",
      "Menor salário: 3054.25\n",
      "Média de salario: 5002.785111111111\n",
      "\n",
      "PROF.UNIVERSITARIO I | CONTRATADO\n",
      "Quantidade de Professores: 62\n",
      "Maior salário: 9503.39\n",
      "Menor salário: 1626.11\n",
      "Média de salario: 3908.2461290322544\n",
      "\n",
      "QS PU1PROF ESP. 4 | EFETIVO\n",
      "Quantidade de Professores: 6\n",
      "Maior salário: 4511.31\n",
      "Menor salário: 3071.38\n",
      "Média de salario: 3435.8283333333334\n",
      "\n",
      "QS PU1PROF. DOUTOR4 | EFETIVO\n",
      "Quantidade de Professores: 1\n",
      "Maior salário: 3482.1\n",
      "Menor salário: 3482.1\n",
      "Média de salario: 3482.1\n",
      "\n",
      "QS PU1PROF. MESTRE4 | EFETIVO\n",
      "Quantidade de Professores: 2\n",
      "Maior salário: 7826.49\n",
      "Menor salário: 3934.64\n",
      "Média de salario: 5880.565\n",
      "\n"
     ]
    },
    {
     "name": "stderr",
     "output_type": "stream",
     "text": [
      "/usr/local/lib/python3.6/dist-packages/ipykernel_launcher.py:9: SettingWithCopyWarning: \n",
      "A value is trying to be set on a copy of a slice from a DataFrame\n",
      "\n",
      "See the caveats in the documentation: https://pandas.pydata.org/pandas-docs/stable/user_guide/indexing.html#returning-a-view-versus-a-copy\n",
      "  if __name__ == '__main__':\n",
      "/usr/local/lib/python3.6/dist-packages/IPython/core/interactiveshell.py:3343: SettingWithCopyWarning: \n",
      "A value is trying to be set on a copy of a slice from a DataFrame\n",
      "\n",
      "See the caveats in the documentation: https://pandas.pydata.org/pandas-docs/stable/user_guide/indexing.html#returning-a-view-versus-a-copy\n",
      "  exec(code_obj, self.user_global_ns, self.user_ns)\n"
     ]
    }
   ],
   "source": [
    "for prof in profs:\n",
    "    for tipo_professor in cargo_professor:\n",
    "        filtro = (df['FUNÇÃO'] == prof) & (df['VÍNCULO'] == tipo_professor)\n",
    "        df_filtro = df[filtro]\n",
    "        \n",
    "        if not df_filtro.empty:\n",
    "            print('{} | {}'.format(prof, tipo_professor))\n",
    "            for i in df_filtro.index:\n",
    "                df_filtro['SALÁRIO LÍQUIDO'][i] = formato_salario(df_filtro['SALÁRIO LÍQUIDO'][i])\n",
    "            \n",
    "            print('Quantidade de Professores: {}'.format(len(df_filtro['SALÁRIO LÍQUIDO'])))\n",
    "            print('Maior salário: {}'.format(df_filtro['SALÁRIO LÍQUIDO'].max()))\n",
    "            print('Menor salário: {}'.format(df_filtro['SALÁRIO LÍQUIDO'].min()))\n",
    "            print('Média de salario: {}\\n'.format(df_filtro['SALÁRIO LÍQUIDO'].mean()))"
   ]
  },
  {
   "cell_type": "code",
   "execution_count": null,
   "metadata": {},
   "outputs": [],
   "source": []
  }
 ],
 "metadata": {
  "kernelspec": {
   "display_name": "Python 3",
   "language": "python",
   "name": "python3"
  },
  "language_info": {
   "codemirror_mode": {
    "name": "ipython",
    "version": 3
   },
   "file_extension": ".py",
   "mimetype": "text/x-python",
   "name": "python",
   "nbconvert_exporter": "python",
   "pygments_lexer": "ipython3",
   "version": "3.6.9"
  }
 },
 "nbformat": 4,
 "nbformat_minor": 2
}
